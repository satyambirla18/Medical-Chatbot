{
 "cells": [
  {
   "cell_type": "code",
   "execution_count": 1,
   "metadata": {},
   "outputs": [
    {
     "name": "stdout",
     "output_type": "stream",
     "text": [
      "Requirement already satisfied: langchain in /Users/satyambirla/Desktop/Medical-Chatbot/env/lib/python3.12/site-packages (0.2.12)\n",
      "Requirement already satisfied: PyYAML>=5.3 in /Users/satyambirla/Desktop/Medical-Chatbot/env/lib/python3.12/site-packages (from langchain) (6.0.1)\n",
      "Requirement already satisfied: SQLAlchemy<3,>=1.4 in /Users/satyambirla/Desktop/Medical-Chatbot/env/lib/python3.12/site-packages (from langchain) (2.0.32)\n",
      "Requirement already satisfied: aiohttp<4.0.0,>=3.8.3 in /Users/satyambirla/Desktop/Medical-Chatbot/env/lib/python3.12/site-packages (from langchain) (3.10.1)\n",
      "Requirement already satisfied: langchain-core<0.3.0,>=0.2.27 in /Users/satyambirla/Desktop/Medical-Chatbot/env/lib/python3.12/site-packages (from langchain) (0.2.29)\n",
      "Requirement already satisfied: langchain-text-splitters<0.3.0,>=0.2.0 in /Users/satyambirla/Desktop/Medical-Chatbot/env/lib/python3.12/site-packages (from langchain) (0.2.2)\n",
      "Requirement already satisfied: langsmith<0.2.0,>=0.1.17 in /Users/satyambirla/Desktop/Medical-Chatbot/env/lib/python3.12/site-packages (from langchain) (0.1.98)\n",
      "Requirement already satisfied: numpy<2.0.0,>=1.26.0 in /Users/satyambirla/Desktop/Medical-Chatbot/env/lib/python3.12/site-packages (from langchain) (1.26.4)\n",
      "Requirement already satisfied: pydantic<3,>=1 in /Users/satyambirla/Desktop/Medical-Chatbot/env/lib/python3.12/site-packages (from langchain) (1.10.17)\n",
      "Requirement already satisfied: requests<3,>=2 in /Users/satyambirla/Desktop/Medical-Chatbot/env/lib/python3.12/site-packages (from langchain) (2.32.3)\n",
      "Requirement already satisfied: tenacity!=8.4.0,<9.0.0,>=8.1.0 in /Users/satyambirla/Desktop/Medical-Chatbot/env/lib/python3.12/site-packages (from langchain) (8.5.0)\n",
      "Requirement already satisfied: aiohappyeyeballs>=2.3.0 in /Users/satyambirla/Desktop/Medical-Chatbot/env/lib/python3.12/site-packages (from aiohttp<4.0.0,>=3.8.3->langchain) (2.3.5)\n",
      "Requirement already satisfied: aiosignal>=1.1.2 in /Users/satyambirla/Desktop/Medical-Chatbot/env/lib/python3.12/site-packages (from aiohttp<4.0.0,>=3.8.3->langchain) (1.3.1)\n",
      "Requirement already satisfied: attrs>=17.3.0 in /Users/satyambirla/Desktop/Medical-Chatbot/env/lib/python3.12/site-packages (from aiohttp<4.0.0,>=3.8.3->langchain) (23.1.0)\n",
      "Requirement already satisfied: frozenlist>=1.1.1 in /Users/satyambirla/Desktop/Medical-Chatbot/env/lib/python3.12/site-packages (from aiohttp<4.0.0,>=3.8.3->langchain) (1.4.1)\n",
      "Requirement already satisfied: multidict<7.0,>=4.5 in /Users/satyambirla/Desktop/Medical-Chatbot/env/lib/python3.12/site-packages (from aiohttp<4.0.0,>=3.8.3->langchain) (6.0.5)\n",
      "Requirement already satisfied: yarl<2.0,>=1.0 in /Users/satyambirla/Desktop/Medical-Chatbot/env/lib/python3.12/site-packages (from aiohttp<4.0.0,>=3.8.3->langchain) (1.9.4)\n",
      "Requirement already satisfied: jsonpatch<2.0,>=1.33 in /Users/satyambirla/Desktop/Medical-Chatbot/env/lib/python3.12/site-packages (from langchain-core<0.3.0,>=0.2.27->langchain) (1.33)\n",
      "Requirement already satisfied: packaging<25,>=23.2 in /Users/satyambirla/Desktop/Medical-Chatbot/env/lib/python3.12/site-packages (from langchain-core<0.3.0,>=0.2.27->langchain) (24.1)\n",
      "Collecting pydantic<3,>=1 (from langchain)\n",
      "  Using cached pydantic-2.8.2-py3-none-any.whl.metadata (125 kB)\n",
      "Requirement already satisfied: typing-extensions>=4.7 in /Users/satyambirla/Desktop/Medical-Chatbot/env/lib/python3.12/site-packages (from langchain-core<0.3.0,>=0.2.27->langchain) (4.11.0)\n",
      "Requirement already satisfied: orjson<4.0.0,>=3.9.14 in /Users/satyambirla/Desktop/Medical-Chatbot/env/lib/python3.12/site-packages (from langsmith<0.2.0,>=0.1.17->langchain) (3.10.6)\n",
      "Requirement already satisfied: annotated-types>=0.4.0 in /Users/satyambirla/Desktop/Medical-Chatbot/env/lib/python3.12/site-packages (from pydantic<3,>=1->langchain) (0.7.0)\n",
      "Requirement already satisfied: pydantic-core==2.20.1 in /Users/satyambirla/Desktop/Medical-Chatbot/env/lib/python3.12/site-packages (from pydantic<3,>=1->langchain) (2.20.1)\n",
      "Requirement already satisfied: charset-normalizer<4,>=2 in /Users/satyambirla/Desktop/Medical-Chatbot/env/lib/python3.12/site-packages (from requests<3,>=2->langchain) (3.3.2)\n",
      "Requirement already satisfied: idna<4,>=2.5 in /Users/satyambirla/Desktop/Medical-Chatbot/env/lib/python3.12/site-packages (from requests<3,>=2->langchain) (3.7)\n",
      "Requirement already satisfied: urllib3<3,>=1.21.1 in /Users/satyambirla/Desktop/Medical-Chatbot/env/lib/python3.12/site-packages (from requests<3,>=2->langchain) (2.2.2)\n",
      "Requirement already satisfied: certifi>=2017.4.17 in /Users/satyambirla/Desktop/Medical-Chatbot/env/lib/python3.12/site-packages (from requests<3,>=2->langchain) (2024.7.4)\n",
      "Requirement already satisfied: jsonpointer>=1.9 in /Users/satyambirla/Desktop/Medical-Chatbot/env/lib/python3.12/site-packages (from jsonpatch<2.0,>=1.33->langchain-core<0.3.0,>=0.2.27->langchain) (3.0.0)\n",
      "Using cached pydantic-2.8.2-py3-none-any.whl (423 kB)\n",
      "Installing collected packages: pydantic\n",
      "  Attempting uninstall: pydantic\n",
      "    Found existing installation: pydantic 1.10.17\n",
      "    Uninstalling pydantic-1.10.17:\n",
      "      Successfully uninstalled pydantic-1.10.17\n",
      "\u001b[31mERROR: pip's dependency resolver does not currently take into account all the packages that are installed. This behaviour is the source of the following dependency conflicts.\n",
      "langchainplus-sdk 0.0.20 requires pydantic<2,>=1, but you have pydantic 2.8.2 which is incompatible.\u001b[0m\u001b[31m\n",
      "\u001b[0mSuccessfully installed pydantic-2.8.2\n"
     ]
    }
   ],
   "source": [
    "!pip install langchain"
   ]
  },
  {
   "cell_type": "code",
   "execution_count": 2,
   "metadata": {},
   "outputs": [
    {
     "name": "stdout",
     "output_type": "stream",
     "text": [
      "Requirement already satisfied: langchain-community in /Users/satyambirla/Desktop/Medical-Chatbot/env/lib/python3.12/site-packages (0.2.11)\n",
      "Requirement already satisfied: PyYAML>=5.3 in /Users/satyambirla/Desktop/Medical-Chatbot/env/lib/python3.12/site-packages (from langchain-community) (6.0.1)\n",
      "Requirement already satisfied: SQLAlchemy<3,>=1.4 in /Users/satyambirla/Desktop/Medical-Chatbot/env/lib/python3.12/site-packages (from langchain-community) (2.0.32)\n",
      "Requirement already satisfied: aiohttp<4.0.0,>=3.8.3 in /Users/satyambirla/Desktop/Medical-Chatbot/env/lib/python3.12/site-packages (from langchain-community) (3.10.1)\n",
      "Requirement already satisfied: dataclasses-json<0.7,>=0.5.7 in /Users/satyambirla/Desktop/Medical-Chatbot/env/lib/python3.12/site-packages (from langchain-community) (0.5.14)\n",
      "Requirement already satisfied: langchain<0.3.0,>=0.2.12 in /Users/satyambirla/Desktop/Medical-Chatbot/env/lib/python3.12/site-packages (from langchain-community) (0.2.12)\n",
      "Requirement already satisfied: langchain-core<0.3.0,>=0.2.27 in /Users/satyambirla/Desktop/Medical-Chatbot/env/lib/python3.12/site-packages (from langchain-community) (0.2.29)\n",
      "Requirement already satisfied: langsmith<0.2.0,>=0.1.0 in /Users/satyambirla/Desktop/Medical-Chatbot/env/lib/python3.12/site-packages (from langchain-community) (0.1.98)\n",
      "Requirement already satisfied: numpy<2.0.0,>=1.26.0 in /Users/satyambirla/Desktop/Medical-Chatbot/env/lib/python3.12/site-packages (from langchain-community) (1.26.4)\n",
      "Requirement already satisfied: requests<3,>=2 in /Users/satyambirla/Desktop/Medical-Chatbot/env/lib/python3.12/site-packages (from langchain-community) (2.32.3)\n",
      "Requirement already satisfied: tenacity!=8.4.0,<9.0.0,>=8.1.0 in /Users/satyambirla/Desktop/Medical-Chatbot/env/lib/python3.12/site-packages (from langchain-community) (8.5.0)\n",
      "Requirement already satisfied: aiohappyeyeballs>=2.3.0 in /Users/satyambirla/Desktop/Medical-Chatbot/env/lib/python3.12/site-packages (from aiohttp<4.0.0,>=3.8.3->langchain-community) (2.3.5)\n",
      "Requirement already satisfied: aiosignal>=1.1.2 in /Users/satyambirla/Desktop/Medical-Chatbot/env/lib/python3.12/site-packages (from aiohttp<4.0.0,>=3.8.3->langchain-community) (1.3.1)\n",
      "Requirement already satisfied: attrs>=17.3.0 in /Users/satyambirla/Desktop/Medical-Chatbot/env/lib/python3.12/site-packages (from aiohttp<4.0.0,>=3.8.3->langchain-community) (23.1.0)\n",
      "Requirement already satisfied: frozenlist>=1.1.1 in /Users/satyambirla/Desktop/Medical-Chatbot/env/lib/python3.12/site-packages (from aiohttp<4.0.0,>=3.8.3->langchain-community) (1.4.1)\n",
      "Requirement already satisfied: multidict<7.0,>=4.5 in /Users/satyambirla/Desktop/Medical-Chatbot/env/lib/python3.12/site-packages (from aiohttp<4.0.0,>=3.8.3->langchain-community) (6.0.5)\n",
      "Requirement already satisfied: yarl<2.0,>=1.0 in /Users/satyambirla/Desktop/Medical-Chatbot/env/lib/python3.12/site-packages (from aiohttp<4.0.0,>=3.8.3->langchain-community) (1.9.4)\n",
      "Requirement already satisfied: marshmallow<4.0.0,>=3.18.0 in /Users/satyambirla/Desktop/Medical-Chatbot/env/lib/python3.12/site-packages (from dataclasses-json<0.7,>=0.5.7->langchain-community) (3.21.3)\n",
      "Requirement already satisfied: typing-inspect<1,>=0.4.0 in /Users/satyambirla/Desktop/Medical-Chatbot/env/lib/python3.12/site-packages (from dataclasses-json<0.7,>=0.5.7->langchain-community) (0.9.0)\n",
      "Requirement already satisfied: langchain-text-splitters<0.3.0,>=0.2.0 in /Users/satyambirla/Desktop/Medical-Chatbot/env/lib/python3.12/site-packages (from langchain<0.3.0,>=0.2.12->langchain-community) (0.2.2)\n",
      "Requirement already satisfied: pydantic<3,>=1 in /Users/satyambirla/Desktop/Medical-Chatbot/env/lib/python3.12/site-packages (from langchain<0.3.0,>=0.2.12->langchain-community) (2.8.2)\n",
      "Requirement already satisfied: jsonpatch<2.0,>=1.33 in /Users/satyambirla/Desktop/Medical-Chatbot/env/lib/python3.12/site-packages (from langchain-core<0.3.0,>=0.2.27->langchain-community) (1.33)\n",
      "Requirement already satisfied: packaging<25,>=23.2 in /Users/satyambirla/Desktop/Medical-Chatbot/env/lib/python3.12/site-packages (from langchain-core<0.3.0,>=0.2.27->langchain-community) (24.1)\n",
      "Requirement already satisfied: typing-extensions>=4.7 in /Users/satyambirla/Desktop/Medical-Chatbot/env/lib/python3.12/site-packages (from langchain-core<0.3.0,>=0.2.27->langchain-community) (4.11.0)\n",
      "Requirement already satisfied: orjson<4.0.0,>=3.9.14 in /Users/satyambirla/Desktop/Medical-Chatbot/env/lib/python3.12/site-packages (from langsmith<0.2.0,>=0.1.0->langchain-community) (3.10.6)\n",
      "Requirement already satisfied: charset-normalizer<4,>=2 in /Users/satyambirla/Desktop/Medical-Chatbot/env/lib/python3.12/site-packages (from requests<3,>=2->langchain-community) (3.3.2)\n",
      "Requirement already satisfied: idna<4,>=2.5 in /Users/satyambirla/Desktop/Medical-Chatbot/env/lib/python3.12/site-packages (from requests<3,>=2->langchain-community) (3.7)\n",
      "Requirement already satisfied: urllib3<3,>=1.21.1 in /Users/satyambirla/Desktop/Medical-Chatbot/env/lib/python3.12/site-packages (from requests<3,>=2->langchain-community) (2.2.2)\n",
      "Requirement already satisfied: certifi>=2017.4.17 in /Users/satyambirla/Desktop/Medical-Chatbot/env/lib/python3.12/site-packages (from requests<3,>=2->langchain-community) (2024.7.4)\n",
      "Requirement already satisfied: jsonpointer>=1.9 in /Users/satyambirla/Desktop/Medical-Chatbot/env/lib/python3.12/site-packages (from jsonpatch<2.0,>=1.33->langchain-core<0.3.0,>=0.2.27->langchain-community) (3.0.0)\n",
      "Requirement already satisfied: annotated-types>=0.4.0 in /Users/satyambirla/Desktop/Medical-Chatbot/env/lib/python3.12/site-packages (from pydantic<3,>=1->langchain<0.3.0,>=0.2.12->langchain-community) (0.7.0)\n",
      "Requirement already satisfied: pydantic-core==2.20.1 in /Users/satyambirla/Desktop/Medical-Chatbot/env/lib/python3.12/site-packages (from pydantic<3,>=1->langchain<0.3.0,>=0.2.12->langchain-community) (2.20.1)\n",
      "Requirement already satisfied: mypy-extensions>=0.3.0 in /Users/satyambirla/Desktop/Medical-Chatbot/env/lib/python3.12/site-packages (from typing-inspect<1,>=0.4.0->dataclasses-json<0.7,>=0.5.7->langchain-community) (1.0.0)\n"
     ]
    }
   ],
   "source": [
    "!pip install -U langchain-community"
   ]
  },
  {
   "cell_type": "code",
   "execution_count": 3,
   "metadata": {},
   "outputs": [
    {
     "name": "stdout",
     "output_type": "stream",
     "text": [
      "Requirement already satisfied: pinecone-client in /Users/satyambirla/Desktop/Medical-Chatbot/env/lib/python3.12/site-packages (5.0.1)\n",
      "Requirement already satisfied: certifi>=2019.11.17 in /Users/satyambirla/Desktop/Medical-Chatbot/env/lib/python3.12/site-packages (from pinecone-client) (2024.7.4)\n",
      "Requirement already satisfied: pinecone-plugin-inference<2.0.0,>=1.0.3 in /Users/satyambirla/Desktop/Medical-Chatbot/env/lib/python3.12/site-packages (from pinecone-client) (1.0.3)\n",
      "Requirement already satisfied: pinecone-plugin-interface<0.0.8,>=0.0.7 in /Users/satyambirla/Desktop/Medical-Chatbot/env/lib/python3.12/site-packages (from pinecone-client) (0.0.7)\n",
      "Requirement already satisfied: tqdm>=4.64.1 in /Users/satyambirla/Desktop/Medical-Chatbot/env/lib/python3.12/site-packages (from pinecone-client) (4.66.5)\n",
      "Requirement already satisfied: typing-extensions>=3.7.4 in /Users/satyambirla/Desktop/Medical-Chatbot/env/lib/python3.12/site-packages (from pinecone-client) (4.11.0)\n",
      "Requirement already satisfied: urllib3>=1.26.5 in /Users/satyambirla/Desktop/Medical-Chatbot/env/lib/python3.12/site-packages (from pinecone-client) (2.2.2)\n"
     ]
    }
   ],
   "source": [
    "!pip install pinecone-client"
   ]
  },
  {
   "cell_type": "code",
   "execution_count": 4,
   "metadata": {},
   "outputs": [
    {
     "name": "stdout",
     "output_type": "stream",
     "text": [
      "Requirement already satisfied: PyPDF2 in /Users/satyambirla/Desktop/Medical-Chatbot/env/lib/python3.12/site-packages (3.0.1)\n"
     ]
    }
   ],
   "source": [
    "!pip install PyPDF2"
   ]
  },
  {
   "cell_type": "code",
   "execution_count": 5,
   "metadata": {},
   "outputs": [],
   "source": [
    "from langchain import PromptTemplate\n",
    "from langchain.chains import RetrievalQA\n",
    "from langchain.embeddings import HuggingFaceEmbeddings\n",
    "from langchain.vectorstores import Pinecone\n",
    "import pinecone\n",
    "from langchain.document_loaders import PyPDFLoader, DirectoryLoader\n",
    "from langchain.text_splitter import RecursiveCharacterTextSplitter\n",
    "from langchain.prompts import PromptTemplate\n",
    "from langchain.llms import CTransformers"
   ]
  },
  {
   "cell_type": "code",
   "execution_count": 6,
   "metadata": {},
   "outputs": [],
   "source": [
    "PINECONE_API_KEY = \"bce1d75b-83e5-4bfd-80a4-40d878f699b2\"\n",
    "PINECONE_API_ENV = \"us-east-1-aws\""
   ]
  },
  {
   "cell_type": "code",
   "execution_count": 7,
   "metadata": {},
   "outputs": [
    {
     "name": "stdout",
     "output_type": "stream",
     "text": [
      "/Users/satyambirla/Desktop/Medical-Chatbot/research/data/Medical_book.pdf\n"
     ]
    }
   ],
   "source": [
    "import os\n",
    "file_path = os.path.abspath(\"data/Medical_book.pdf\")\n",
    "print(file_path)  # This will show the absolute path to your file\n",
    "\n",
    "# extracted_data = load_pdf(file_path)"
   ]
  },
  {
   "cell_type": "code",
   "execution_count": 8,
   "metadata": {},
   "outputs": [
    {
     "name": "stdout",
     "output_type": "stream",
     "text": [
      "Requirement already satisfied: sentence-transformers in /Users/satyambirla/Desktop/Medical-Chatbot/env/lib/python3.12/site-packages (2.2.2)\n",
      "Requirement already satisfied: transformers<5.0.0,>=4.6.0 in /Users/satyambirla/Desktop/Medical-Chatbot/env/lib/python3.12/site-packages (from sentence-transformers) (4.44.0)\n",
      "Requirement already satisfied: tqdm in /Users/satyambirla/Desktop/Medical-Chatbot/env/lib/python3.12/site-packages (from sentence-transformers) (4.66.5)\n",
      "Requirement already satisfied: torch>=1.6.0 in /Users/satyambirla/Desktop/Medical-Chatbot/env/lib/python3.12/site-packages (from sentence-transformers) (2.4.0)\n",
      "Requirement already satisfied: torchvision in /Users/satyambirla/Desktop/Medical-Chatbot/env/lib/python3.12/site-packages (from sentence-transformers) (0.19.0)\n",
      "Requirement already satisfied: numpy in /Users/satyambirla/Desktop/Medical-Chatbot/env/lib/python3.12/site-packages (from sentence-transformers) (1.26.4)\n",
      "Requirement already satisfied: scikit-learn in /Users/satyambirla/Desktop/Medical-Chatbot/env/lib/python3.12/site-packages (from sentence-transformers) (1.5.1)\n",
      "Requirement already satisfied: scipy in /Users/satyambirla/Desktop/Medical-Chatbot/env/lib/python3.12/site-packages (from sentence-transformers) (1.14.0)\n",
      "Requirement already satisfied: nltk in /Users/satyambirla/Desktop/Medical-Chatbot/env/lib/python3.12/site-packages (from sentence-transformers) (3.8.1)\n",
      "Requirement already satisfied: sentencepiece in /Users/satyambirla/Desktop/Medical-Chatbot/env/lib/python3.12/site-packages (from sentence-transformers) (0.2.0)\n",
      "Requirement already satisfied: huggingface-hub>=0.4.0 in /Users/satyambirla/Desktop/Medical-Chatbot/env/lib/python3.12/site-packages (from sentence-transformers) (0.24.5)\n",
      "Requirement already satisfied: filelock in /Users/satyambirla/Desktop/Medical-Chatbot/env/lib/python3.12/site-packages (from huggingface-hub>=0.4.0->sentence-transformers) (3.15.4)\n",
      "Requirement already satisfied: fsspec>=2023.5.0 in /Users/satyambirla/Desktop/Medical-Chatbot/env/lib/python3.12/site-packages (from huggingface-hub>=0.4.0->sentence-transformers) (2024.6.1)\n",
      "Requirement already satisfied: packaging>=20.9 in /Users/satyambirla/Desktop/Medical-Chatbot/env/lib/python3.12/site-packages (from huggingface-hub>=0.4.0->sentence-transformers) (24.1)\n",
      "Requirement already satisfied: pyyaml>=5.1 in /Users/satyambirla/Desktop/Medical-Chatbot/env/lib/python3.12/site-packages (from huggingface-hub>=0.4.0->sentence-transformers) (6.0.1)\n",
      "Requirement already satisfied: requests in /Users/satyambirla/Desktop/Medical-Chatbot/env/lib/python3.12/site-packages (from huggingface-hub>=0.4.0->sentence-transformers) (2.32.3)\n",
      "Requirement already satisfied: typing-extensions>=3.7.4.3 in /Users/satyambirla/Desktop/Medical-Chatbot/env/lib/python3.12/site-packages (from huggingface-hub>=0.4.0->sentence-transformers) (4.11.0)\n",
      "Requirement already satisfied: sympy in /Users/satyambirla/Desktop/Medical-Chatbot/env/lib/python3.12/site-packages (from torch>=1.6.0->sentence-transformers) (1.13.1)\n",
      "Requirement already satisfied: networkx in /Users/satyambirla/Desktop/Medical-Chatbot/env/lib/python3.12/site-packages (from torch>=1.6.0->sentence-transformers) (3.3)\n",
      "Requirement already satisfied: jinja2 in /Users/satyambirla/Desktop/Medical-Chatbot/env/lib/python3.12/site-packages (from torch>=1.6.0->sentence-transformers) (3.1.4)\n",
      "Requirement already satisfied: setuptools in /Users/satyambirla/Desktop/Medical-Chatbot/env/lib/python3.12/site-packages (from torch>=1.6.0->sentence-transformers) (72.1.0)\n",
      "Requirement already satisfied: regex!=2019.12.17 in /Users/satyambirla/Desktop/Medical-Chatbot/env/lib/python3.12/site-packages (from transformers<5.0.0,>=4.6.0->sentence-transformers) (2024.7.24)\n",
      "Requirement already satisfied: safetensors>=0.4.1 in /Users/satyambirla/Desktop/Medical-Chatbot/env/lib/python3.12/site-packages (from transformers<5.0.0,>=4.6.0->sentence-transformers) (0.4.4)\n",
      "Requirement already satisfied: tokenizers<0.20,>=0.19 in /Users/satyambirla/Desktop/Medical-Chatbot/env/lib/python3.12/site-packages (from transformers<5.0.0,>=4.6.0->sentence-transformers) (0.19.1)\n",
      "Requirement already satisfied: click in /Users/satyambirla/Desktop/Medical-Chatbot/env/lib/python3.12/site-packages (from nltk->sentence-transformers) (8.1.7)\n",
      "Requirement already satisfied: joblib in /Users/satyambirla/Desktop/Medical-Chatbot/env/lib/python3.12/site-packages (from nltk->sentence-transformers) (1.4.2)\n",
      "Requirement already satisfied: threadpoolctl>=3.1.0 in /Users/satyambirla/Desktop/Medical-Chatbot/env/lib/python3.12/site-packages (from scikit-learn->sentence-transformers) (3.5.0)\n",
      "Requirement already satisfied: pillow!=8.3.*,>=5.3.0 in /Users/satyambirla/Desktop/Medical-Chatbot/env/lib/python3.12/site-packages (from torchvision->sentence-transformers) (10.4.0)\n",
      "Requirement already satisfied: MarkupSafe>=2.0 in /Users/satyambirla/Desktop/Medical-Chatbot/env/lib/python3.12/site-packages (from jinja2->torch>=1.6.0->sentence-transformers) (2.1.3)\n",
      "Requirement already satisfied: charset-normalizer<4,>=2 in /Users/satyambirla/Desktop/Medical-Chatbot/env/lib/python3.12/site-packages (from requests->huggingface-hub>=0.4.0->sentence-transformers) (3.3.2)\n",
      "Requirement already satisfied: idna<4,>=2.5 in /Users/satyambirla/Desktop/Medical-Chatbot/env/lib/python3.12/site-packages (from requests->huggingface-hub>=0.4.0->sentence-transformers) (3.7)\n",
      "Requirement already satisfied: urllib3<3,>=1.21.1 in /Users/satyambirla/Desktop/Medical-Chatbot/env/lib/python3.12/site-packages (from requests->huggingface-hub>=0.4.0->sentence-transformers) (2.2.2)\n",
      "Requirement already satisfied: certifi>=2017.4.17 in /Users/satyambirla/Desktop/Medical-Chatbot/env/lib/python3.12/site-packages (from requests->huggingface-hub>=0.4.0->sentence-transformers) (2024.7.4)\n",
      "Requirement already satisfied: mpmath<1.4,>=1.1.0 in /Users/satyambirla/Desktop/Medical-Chatbot/env/lib/python3.12/site-packages (from sympy->torch>=1.6.0->sentence-transformers) (1.3.0)\n"
     ]
    }
   ],
   "source": [
    "!pip install sentence-transformers"
   ]
  },
  {
   "cell_type": "code",
   "execution_count": 9,
   "metadata": {},
   "outputs": [],
   "source": [
    "#Extract data from the PDF\n",
    "from langchain.document_loaders import PyPDFLoader\n",
    "\n",
    "def load_pdf(file_path):\n",
    "    try:\n",
    "        loader = PyPDFLoader(file_path)\n",
    "        documents = loader.load()\n",
    "        return documents\n",
    "    except Exception as e:\n",
    "        print(f\"An error occurred: {e}\")\n",
    "        return None\n",
    "\n",
    "# Now, load the specific PDF\n",
    "extracted_data = load_pdf(\"/Users/satyambirla/Desktop/Medical-Chatbot/data/Medical_book.pdf\")"
   ]
  },
  {
   "cell_type": "code",
   "execution_count": 10,
   "metadata": {},
   "outputs": [],
   "source": [
    "#Create text chunks\n",
    "def text_split(extracted_data):\n",
    "    text_splitter = RecursiveCharacterTextSplitter(chunk_size = 500, chunk_overlap = 20)\n",
    "    text_chunks = text_splitter.split_documents(extracted_data)\n",
    "\n",
    "    return text_chunks"
   ]
  },
  {
   "cell_type": "code",
   "execution_count": 11,
   "metadata": {},
   "outputs": [
    {
     "name": "stdout",
     "output_type": "stream",
     "text": [
      "Requirement already satisfied: ctransformers in /Users/satyambirla/Desktop/Medical-Chatbot/env/lib/python3.12/site-packages (0.2.5)\n",
      "Requirement already satisfied: huggingface-hub in /Users/satyambirla/Desktop/Medical-Chatbot/env/lib/python3.12/site-packages (from ctransformers) (0.24.5)\n",
      "Requirement already satisfied: filelock in /Users/satyambirla/Desktop/Medical-Chatbot/env/lib/python3.12/site-packages (from huggingface-hub->ctransformers) (3.15.4)\n",
      "Requirement already satisfied: fsspec>=2023.5.0 in /Users/satyambirla/Desktop/Medical-Chatbot/env/lib/python3.12/site-packages (from huggingface-hub->ctransformers) (2024.6.1)\n",
      "Requirement already satisfied: packaging>=20.9 in /Users/satyambirla/Desktop/Medical-Chatbot/env/lib/python3.12/site-packages (from huggingface-hub->ctransformers) (24.1)\n",
      "Requirement already satisfied: pyyaml>=5.1 in /Users/satyambirla/Desktop/Medical-Chatbot/env/lib/python3.12/site-packages (from huggingface-hub->ctransformers) (6.0.1)\n",
      "Requirement already satisfied: requests in /Users/satyambirla/Desktop/Medical-Chatbot/env/lib/python3.12/site-packages (from huggingface-hub->ctransformers) (2.32.3)\n",
      "Requirement already satisfied: tqdm>=4.42.1 in /Users/satyambirla/Desktop/Medical-Chatbot/env/lib/python3.12/site-packages (from huggingface-hub->ctransformers) (4.66.5)\n",
      "Requirement already satisfied: typing-extensions>=3.7.4.3 in /Users/satyambirla/Desktop/Medical-Chatbot/env/lib/python3.12/site-packages (from huggingface-hub->ctransformers) (4.11.0)\n",
      "Requirement already satisfied: charset-normalizer<4,>=2 in /Users/satyambirla/Desktop/Medical-Chatbot/env/lib/python3.12/site-packages (from requests->huggingface-hub->ctransformers) (3.3.2)\n",
      "Requirement already satisfied: idna<4,>=2.5 in /Users/satyambirla/Desktop/Medical-Chatbot/env/lib/python3.12/site-packages (from requests->huggingface-hub->ctransformers) (3.7)\n",
      "Requirement already satisfied: urllib3<3,>=1.21.1 in /Users/satyambirla/Desktop/Medical-Chatbot/env/lib/python3.12/site-packages (from requests->huggingface-hub->ctransformers) (2.2.2)\n",
      "Requirement already satisfied: certifi>=2017.4.17 in /Users/satyambirla/Desktop/Medical-Chatbot/env/lib/python3.12/site-packages (from requests->huggingface-hub->ctransformers) (2024.7.4)\n"
     ]
    }
   ],
   "source": [
    "!pip install ctransformers"
   ]
  },
  {
   "cell_type": "code",
   "execution_count": 12,
   "metadata": {},
   "outputs": [
    {
     "name": "stdout",
     "output_type": "stream",
     "text": [
      "length of my chunk: 7020\n"
     ]
    }
   ],
   "source": [
    "text_chunks = text_split(extracted_data)\n",
    "print(\"length of my chunk:\", len(text_chunks))"
   ]
  },
  {
   "cell_type": "code",
   "execution_count": 13,
   "metadata": {},
   "outputs": [
    {
     "name": "stderr",
     "output_type": "stream",
     "text": [
      "/Users/satyambirla/Desktop/Medical-Chatbot/env/lib/python3.12/site-packages/langchain_core/_api/deprecation.py:139: LangChainDeprecationWarning: The class `HuggingFaceEmbeddings` was deprecated in LangChain 0.2.2 and will be removed in 0.3.0. An updated version of the class exists in the langchain-huggingface package and should be used instead. To use it run `pip install -U langchain-huggingface` and import as `from langchain_huggingface import HuggingFaceEmbeddings`.\n",
      "  warn_deprecated(\n",
      "/Users/satyambirla/Desktop/Medical-Chatbot/env/lib/python3.12/site-packages/transformers/tokenization_utils_base.py:1601: FutureWarning: `clean_up_tokenization_spaces` was not set. It will be set to `True` by default. This behavior will be depracted in transformers v4.45, and will be then set to `False` by default. For more details check this issue: https://github.com/huggingface/transformers/issues/31884\n",
      "  warnings.warn(\n"
     ]
    }
   ],
   "source": [
    "#download embedding model\n",
    "def download_hugging_face_embeddings():\n",
    "    embeddings = HuggingFaceEmbeddings(model_name=\"sentence-transformers/all-MiniLM-L6-v2\")\n",
    "    return embeddings\n",
    "\n",
    "embeddings = download_hugging_face_embeddings()"
   ]
  },
  {
   "cell_type": "code",
   "execution_count": 14,
   "metadata": {},
   "outputs": [
    {
     "data": {
      "text/plain": [
       "HuggingFaceEmbeddings(client=SentenceTransformer(\n",
       "  (0): Transformer({'max_seq_length': 256, 'do_lower_case': False}) with Transformer model: BertModel \n",
       "  (1): Pooling({'word_embedding_dimension': 384, 'pooling_mode_cls_token': False, 'pooling_mode_mean_tokens': True, 'pooling_mode_max_tokens': False, 'pooling_mode_mean_sqrt_len_tokens': False})\n",
       "  (2): Normalize()\n",
       "), model_name='sentence-transformers/all-MiniLM-L6-v2', cache_folder=None, model_kwargs={}, encode_kwargs={}, multi_process=False, show_progress=False)"
      ]
     },
     "execution_count": 14,
     "metadata": {},
     "output_type": "execute_result"
    }
   ],
   "source": [
    "embeddings"
   ]
  },
  {
   "cell_type": "code",
   "execution_count": 15,
   "metadata": {},
   "outputs": [
    {
     "name": "stdout",
     "output_type": "stream",
     "text": [
      "Length 384\n"
     ]
    }
   ],
   "source": [
    "query_result = embeddings.embed_query(\"Hello world\")\n",
    "print(\"Length\", len(query_result))"
   ]
  },
  {
   "cell_type": "code",
   "execution_count": 16,
   "metadata": {},
   "outputs": [],
   "source": [
    "#Initializing the Pinecone\n",
    "from pinecone import Pinecone, ServerlessSpec\n",
    "\n",
    "# Initialize Pinecone with your API key\n",
    "pc = Pinecone(api_key=\"bce1d75b-83e5-4bfd-80a4-40d878f699b2\")\n",
    "\n",
    "# Define the index name\n",
    "index_name = \"medchat\"\n",
    "\n",
    "# Check if the index exists; if not, create it\n",
    "if index_name not in pc.list_indexes().names():\n",
    "    pc.create_index(\n",
    "        name=index_name, \n",
    "        dimension=384, \n",
    "        metric='cosine',\n",
    "        spec=ServerlessSpec(\n",
    "            cloud='aws',\n",
    "            region='us-east-1'\n",
    "        )\n",
    "    )\n",
    "#Creating Embeddings for Each of The Text Chunks & storing\n",
    "# docsearch=Pinecone.from_texts([t.page_content for t in text_chunks], embeddings, index_name=index_name)"
   ]
  },
  {
   "cell_type": "code",
   "execution_count": 17,
   "metadata": {},
   "outputs": [
    {
     "name": "stderr",
     "output_type": "stream",
     "text": [
      "huggingface/tokenizers: The current process just got forked, after parallelism has already been used. Disabling parallelism to avoid deadlocks...\n",
      "To disable this warning, you can either:\n",
      "\t- Avoid using `tokenizers` before the fork if possible\n",
      "\t- Explicitly set the environment variable TOKENIZERS_PARALLELISM=(true | false)\n"
     ]
    },
    {
     "name": "stdout",
     "output_type": "stream",
     "text": [
      "Requirement already satisfied: langchain in /Users/satyambirla/Desktop/Medical-Chatbot/env/lib/python3.12/site-packages (0.2.12)\n",
      "Requirement already satisfied: PyYAML>=5.3 in /Users/satyambirla/Desktop/Medical-Chatbot/env/lib/python3.12/site-packages (from langchain) (6.0.1)\n",
      "Requirement already satisfied: SQLAlchemy<3,>=1.4 in /Users/satyambirla/Desktop/Medical-Chatbot/env/lib/python3.12/site-packages (from langchain) (2.0.32)\n",
      "Requirement already satisfied: aiohttp<4.0.0,>=3.8.3 in /Users/satyambirla/Desktop/Medical-Chatbot/env/lib/python3.12/site-packages (from langchain) (3.10.1)\n",
      "Requirement already satisfied: langchain-core<0.3.0,>=0.2.27 in /Users/satyambirla/Desktop/Medical-Chatbot/env/lib/python3.12/site-packages (from langchain) (0.2.29)\n",
      "Requirement already satisfied: langchain-text-splitters<0.3.0,>=0.2.0 in /Users/satyambirla/Desktop/Medical-Chatbot/env/lib/python3.12/site-packages (from langchain) (0.2.2)\n",
      "Requirement already satisfied: langsmith<0.2.0,>=0.1.17 in /Users/satyambirla/Desktop/Medical-Chatbot/env/lib/python3.12/site-packages (from langchain) (0.1.98)\n",
      "Requirement already satisfied: numpy<2.0.0,>=1.26.0 in /Users/satyambirla/Desktop/Medical-Chatbot/env/lib/python3.12/site-packages (from langchain) (1.26.4)\n",
      "Requirement already satisfied: pydantic<3,>=1 in /Users/satyambirla/Desktop/Medical-Chatbot/env/lib/python3.12/site-packages (from langchain) (2.8.2)\n",
      "Requirement already satisfied: requests<3,>=2 in /Users/satyambirla/Desktop/Medical-Chatbot/env/lib/python3.12/site-packages (from langchain) (2.32.3)\n",
      "Requirement already satisfied: tenacity!=8.4.0,<9.0.0,>=8.1.0 in /Users/satyambirla/Desktop/Medical-Chatbot/env/lib/python3.12/site-packages (from langchain) (8.5.0)\n",
      "Requirement already satisfied: aiohappyeyeballs>=2.3.0 in /Users/satyambirla/Desktop/Medical-Chatbot/env/lib/python3.12/site-packages (from aiohttp<4.0.0,>=3.8.3->langchain) (2.3.5)\n",
      "Requirement already satisfied: aiosignal>=1.1.2 in /Users/satyambirla/Desktop/Medical-Chatbot/env/lib/python3.12/site-packages (from aiohttp<4.0.0,>=3.8.3->langchain) (1.3.1)\n",
      "Requirement already satisfied: attrs>=17.3.0 in /Users/satyambirla/Desktop/Medical-Chatbot/env/lib/python3.12/site-packages (from aiohttp<4.0.0,>=3.8.3->langchain) (23.1.0)\n",
      "Requirement already satisfied: frozenlist>=1.1.1 in /Users/satyambirla/Desktop/Medical-Chatbot/env/lib/python3.12/site-packages (from aiohttp<4.0.0,>=3.8.3->langchain) (1.4.1)\n",
      "Requirement already satisfied: multidict<7.0,>=4.5 in /Users/satyambirla/Desktop/Medical-Chatbot/env/lib/python3.12/site-packages (from aiohttp<4.0.0,>=3.8.3->langchain) (6.0.5)\n",
      "Requirement already satisfied: yarl<2.0,>=1.0 in /Users/satyambirla/Desktop/Medical-Chatbot/env/lib/python3.12/site-packages (from aiohttp<4.0.0,>=3.8.3->langchain) (1.9.4)\n",
      "Requirement already satisfied: jsonpatch<2.0,>=1.33 in /Users/satyambirla/Desktop/Medical-Chatbot/env/lib/python3.12/site-packages (from langchain-core<0.3.0,>=0.2.27->langchain) (1.33)\n",
      "Requirement already satisfied: packaging<25,>=23.2 in /Users/satyambirla/Desktop/Medical-Chatbot/env/lib/python3.12/site-packages (from langchain-core<0.3.0,>=0.2.27->langchain) (24.1)\n",
      "Requirement already satisfied: typing-extensions>=4.7 in /Users/satyambirla/Desktop/Medical-Chatbot/env/lib/python3.12/site-packages (from langchain-core<0.3.0,>=0.2.27->langchain) (4.11.0)\n",
      "Requirement already satisfied: orjson<4.0.0,>=3.9.14 in /Users/satyambirla/Desktop/Medical-Chatbot/env/lib/python3.12/site-packages (from langsmith<0.2.0,>=0.1.17->langchain) (3.10.6)\n",
      "Requirement already satisfied: annotated-types>=0.4.0 in /Users/satyambirla/Desktop/Medical-Chatbot/env/lib/python3.12/site-packages (from pydantic<3,>=1->langchain) (0.7.0)\n",
      "Requirement already satisfied: pydantic-core==2.20.1 in /Users/satyambirla/Desktop/Medical-Chatbot/env/lib/python3.12/site-packages (from pydantic<3,>=1->langchain) (2.20.1)\n",
      "Requirement already satisfied: charset-normalizer<4,>=2 in /Users/satyambirla/Desktop/Medical-Chatbot/env/lib/python3.12/site-packages (from requests<3,>=2->langchain) (3.3.2)\n",
      "Requirement already satisfied: idna<4,>=2.5 in /Users/satyambirla/Desktop/Medical-Chatbot/env/lib/python3.12/site-packages (from requests<3,>=2->langchain) (3.7)\n",
      "Requirement already satisfied: urllib3<3,>=1.21.1 in /Users/satyambirla/Desktop/Medical-Chatbot/env/lib/python3.12/site-packages (from requests<3,>=2->langchain) (2.2.2)\n",
      "Requirement already satisfied: certifi>=2017.4.17 in /Users/satyambirla/Desktop/Medical-Chatbot/env/lib/python3.12/site-packages (from requests<3,>=2->langchain) (2024.7.4)\n",
      "Requirement already satisfied: jsonpointer>=1.9 in /Users/satyambirla/Desktop/Medical-Chatbot/env/lib/python3.12/site-packages (from jsonpatch<2.0,>=1.33->langchain-core<0.3.0,>=0.2.27->langchain) (3.0.0)\n"
     ]
    }
   ],
   "source": [
    "!pip install langchain"
   ]
  },
  {
   "cell_type": "code",
   "execution_count": 18,
   "metadata": {},
   "outputs": [],
   "source": [
    "import os\n",
    "from langchain.vectorstores import Pinecone\n",
    "from langchain.embeddings import HuggingFaceEmbeddings\n",
    "\n",
    "# Set the API key directly in the code\n",
    "os.environ[\"PINECONE_API_KEY\"] = \"bce1d75b-83e5-4bfd-80a4-40d878f699b2\"\n",
    "\n",
    "# Initialize the embeddings model\n",
    "embeddings = HuggingFaceEmbeddings(model_name=\"all-MiniLM-L6-v2\")\n",
    "\n",
    "# Create embeddings for the text chunks\n",
    "docsearch = Pinecone.from_texts(\n",
    "    texts=[t.page_content for t in text_chunks],\n",
    "    embedding=embeddings,\n",
    "    index_name=\"medchat\"\n",
    ")"
   ]
  },
  {
   "cell_type": "code",
   "execution_count": 19,
   "metadata": {},
   "outputs": [
    {
     "name": "stdout",
     "output_type": "stream",
     "text": [
      "ID: ee5dbc3d-4203-444b-badc-cf7a4267f973, Score: 0.682538569\n",
      "ID: 41a66cf2-ae94-44e3-a039-4d47b085e9ae, Score: 0.682266593\n",
      "ID: 274d3b70-90f1-48ac-9e24-698f6f557131, Score: 0.678439677\n"
     ]
    }
   ],
   "source": [
    "#If we already have an index we can load it like this\n",
    "from sentence_transformers import SentenceTransformer\n",
    "from pinecone import Pinecone\n",
    "\n",
    "# Initialize Pinecone with your API key\n",
    "pc = Pinecone(api_key=\"bce1d75b-83e5-4bfd-80a4-40d878f699b2\")\n",
    "\n",
    "# Load the existing index\n",
    "index = pc.Index(index_name)\n",
    "\n",
    "# Initialize the Hugging Face model using SentenceTransformer\n",
    "model = SentenceTransformer('all-MiniLM-L6-v2')  # Replace with your model\n",
    "\n",
    "# Generate the query vector using the model\n",
    "query = \"What are Allergies\"\n",
    "query_vector = model.encode(query)\n",
    "\n",
    "# Convert the query vector from ndarray to list\n",
    "query_vector = query_vector.tolist()\n",
    "\n",
    "# Perform the similarity search\n",
    "result = index.query(vector=query_vector, top_k=3)\n",
    "\n",
    "# Process and print the results\n",
    "for match in result.matches:\n",
    "    print(f\"ID: {match.id}, Score: {match.score}\")"
   ]
  },
  {
   "cell_type": "code",
   "execution_count": 20,
   "metadata": {},
   "outputs": [],
   "source": [
    "prompt_template=\"\"\"\n",
    "Use the following pieces of information to answer the user's question.\n",
    "If you don't know the answer, just say that you don't know, don't try to make up an answer.\n",
    "\n",
    "Context: {context}\n",
    "Question: {question}\n",
    "\n",
    "Only return the helpful answer below and nothing else.\n",
    "Helpful answer:\n",
    "\"\"\""
   ]
  },
  {
   "cell_type": "code",
   "execution_count": 21,
   "metadata": {},
   "outputs": [],
   "source": [
    "PROMPT=PromptTemplate(template=prompt_template, input_variables=[\"context\", \"question\"])\n",
    "chain_type_kwargs={\"prompt\": PROMPT}"
   ]
  },
  {
   "cell_type": "code",
   "execution_count": 22,
   "metadata": {},
   "outputs": [],
   "source": [
    "llm = CTransformers(\n",
    "    model=\"/Users/satyambirla/Desktop/Medical-Chatbot/model/llama-2-7b-chat.ggmlv3.q4_0.bin\",\n",
    "    model_type=\"llama\",\n",
    "    config={'max_new_tokens': 512, 'temperature': 0.8}\n",
    ")"
   ]
  },
  {
   "cell_type": "code",
   "execution_count": 23,
   "metadata": {},
   "outputs": [],
   "source": [
    "qa=RetrievalQA.from_chain_type(\n",
    "    llm=llm, \n",
    "    chain_type=\"stuff\", \n",
    "    retriever=docsearch.as_retriever(search_kwargs={'k': 2}),\n",
    "    return_source_documents=True, \n",
    "    chain_type_kwargs=chain_type_kwargs)"
   ]
  },
  {
   "cell_type": "code",
   "execution_count": null,
   "metadata": {},
   "outputs": [
    {
     "name": "stdin",
     "output_type": "stream",
     "text": [
      "Input Prompt: What are the symptoms of malaria?\n"
     ]
    },
    {
     "name": "stderr",
     "output_type": "stream",
     "text": [
      "/Users/satyambirla/Desktop/Medical-Chatbot/env/lib/python3.12/site-packages/langchain_core/_api/deprecation.py:139: LangChainDeprecationWarning: The method `Chain.__call__` was deprecated in langchain 0.1.0 and will be removed in 0.3.0. Use invoke instead.\n",
      "  warn_deprecated(\n"
     ]
    },
    {
     "name": "stdout",
     "output_type": "stream",
     "text": [
      "Response :  Malaria is a serious disease caused by a parasite that is transmitted through the bite of an infected mosquito. The symptoms of malaria can vary depending on the type of parasite and the individual infected, but common symptoms include fever, chills, headache, muscle and joint pain, fatigue, nausea, vomiting, and diarrhea. In severe cases, malaria can cause anemia, seizures, coma, and even death.\n"
     ]
    },
    {
     "name": "stdin",
     "output_type": "stream",
     "text": [
      "Input Prompt: How is HIV transmitted?\n"
     ]
    },
    {
     "name": "stdout",
     "output_type": "stream",
     "text": [
      "Response :  HIV can be transmitted through sexual contact, including vaginal, anal, and oral sex, as well as sharing of needles or other drug paraphernalia. It is also possible for a mother to transmit HIV to her child during pregnancy, childbirth, or breastfeeding.\n"
     ]
    },
    {
     "name": "stdin",
     "output_type": "stream",
     "text": [
      "Input Prompt: How can I treat a common cold at home?\n"
     ]
    },
    {
     "name": "stdout",
     "output_type": "stream",
     "text": [
      "Response :  There are several things you can do at home to help manage symptoms of a common cold:\n",
      "\n",
      "1. Stay hydrated by drinking plenty of fluids, such as water, tea, or soup.\n",
      "2. Use over-the-counter medications, such as pain relievers or decongestants, to help alleviate symptoms like fever, headache, or congestion.\n",
      "3. Rest and relax to help your body recover from the infection.\n",
      "4. Use saline nasal sprays or drops to help loosen mucus and make breathing easier.\n",
      "5. Try using a humidifier to add moisture to the air, which can help relieve congestion and cough.\n",
      "\n",
      "Please let me know if you need anything else!\n"
     ]
    },
    {
     "name": "stdin",
     "output_type": "stream",
     "text": [
      "Input Prompt: What are the common signs of dehydration?\n"
     ]
    },
    {
     "name": "stdout",
     "output_type": "stream",
     "text": [
      "Response :  Dehydration can cause a variety of symptoms including:\n",
      "\n",
      "* Fatigue or weakness\n",
      "* Dizziness or lightheadedness\n",
      "* Headache\n",
      "* Dry mouth or throat\n",
      "* Dark urine or decreased urine output\n",
      "* Constipation or difficulty passing stool\n",
      "* Muscle cramps or spasms\n",
      "* Rapid heartbeat or palpitations.\n"
     ]
    }
   ],
   "source": [
    "while True:\n",
    "    user_input=input(f\"Input Prompt:\")\n",
    "    result=qa({\"query\": user_input})\n",
    "    print(\"Response : \", result[\"result\"])"
   ]
  }
 ],
 "metadata": {
  "kernelspec": {
   "display_name": "Python 3 (ipykernel)",
   "language": "python",
   "name": "python3"
  },
  "language_info": {
   "codemirror_mode": {
    "name": "ipython",
    "version": 3
   },
   "file_extension": ".py",
   "mimetype": "text/x-python",
   "name": "python",
   "nbconvert_exporter": "python",
   "pygments_lexer": "ipython3",
   "version": "3.12.4"
  }
 },
 "nbformat": 4,
 "nbformat_minor": 4
}
